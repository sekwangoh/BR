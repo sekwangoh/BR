{
  "nbformat": 4,
  "nbformat_minor": 0,
  "metadata": {
    "colab": {
      "name": "n123a_confidence_intervals_ipynb의_사본 (1).ipynb",
      "provenance": [],
      "collapsed_sections": [],
      "include_colab_link": true
    },
    "kernelspec": {
      "display_name": "Python 3",
      "language": "python",
      "name": "python3"
    },
    "language_info": {
      "codemirror_mode": {
        "name": "ipython",
        "version": 3
      },
      "file_extension": ".py",
      "mimetype": "text/x-python",
      "name": "python",
      "nbconvert_exporter": "python",
      "pygments_lexer": "ipython3",
      "version": "3.7.6"
    }
  },
  "cells": [
    {
      "cell_type": "markdown",
      "metadata": {
        "id": "view-in-github",
        "colab_type": "text"
      },
      "source": [
        "<a href=\"https://colab.research.google.com/github/sekwangoh/BR/blob/master/n123a_confidence_intervals_ipynb%E1%84%8B%E1%85%B4_%E1%84%89%E1%85%A1%E1%84%87%E1%85%A9%E1%86%AB_(1).ipynb\" target=\"_parent\"><img src=\"https://colab.research.google.com/assets/colab-badge.svg\" alt=\"Open In Colab\"/></a>"
      ]
    },
    {
      "cell_type": "markdown",
      "metadata": {
        "colab_type": "text",
        "id": "g_c3L9CeANiJ"
      },
      "source": [
        "<img src='https://i.imgur.com/RDAD11M.png' width = '200' align = 'right'>\n",
        "\n",
        "## *DATA SCIENCE / SECTION 1 / SPRINT 2 / NOTE 3*\n",
        "\n",
        "# 📝 Assignment\n",
        "\n",
        "# 신뢰구간\n"
      ]
    },
    {
      "cell_type": "markdown",
      "metadata": {
        "colab_type": "text",
        "id": "MZIgNB3kiz4s"
      },
      "source": [
        "# 중심극한정리 \n"
      ]
    },
    {
      "cell_type": "code",
      "metadata": {
        "scrolled": true,
        "id": "bjIoWMGnB8__",
        "colab_type": "code",
        "colab": {},
        "outputId": "0b6c7ee7-b852-482b-a70f-8f869143441f"
      },
      "source": [
        "import numpy as np\n",
        "import matplotlib.pyplot as plt\n",
        "import pandas as pd\n",
        "\n",
        "sample_means = []\n",
        "\n",
        "for x in range(0, 3000):\n",
        "    coinflips = np.random.binomial(n=1, p=0.5, size=12) \n",
        "    one_sample = coinflips\n",
        "    sample_means.append(coinflips.mean())\n",
        "print(len(sample_means))\n",
        "print(pd.DataFrame(sample_means).describe())"
      ],
      "execution_count": null,
      "outputs": [
        {
          "output_type": "stream",
          "text": [
            "3000\n",
            "                 0\n",
            "count  3000.000000\n",
            "mean      0.501861\n",
            "std       0.144662\n",
            "min       0.083333\n",
            "25%       0.416667\n",
            "50%       0.500000\n",
            "75%       0.583333\n",
            "max       0.916667\n"
          ],
          "name": "stdout"
        }
      ]
    },
    {
      "cell_type": "code",
      "metadata": {
        "id": "zJQy7V9pB9AC",
        "colab_type": "code",
        "colab": {},
        "outputId": "39a24662-cc00-4abc-9cd7-8b44cd21c856"
      },
      "source": [
        "df = pd.DataFrame({'single_sample': one_sample})\n",
        "print(len(df))\n",
        "print(df)\n",
        "df.head()"
      ],
      "execution_count": null,
      "outputs": [
        {
          "output_type": "stream",
          "text": [
            "12\n",
            "    single_sample\n",
            "0               0\n",
            "1               0\n",
            "2               1\n",
            "3               1\n",
            "4               0\n",
            "5               1\n",
            "6               1\n",
            "7               1\n",
            "8               0\n",
            "9               1\n",
            "10              0\n",
            "11              0\n"
          ],
          "name": "stdout"
        },
        {
          "output_type": "execute_result",
          "data": {
            "text/html": [
              "<div>\n",
              "<style scoped>\n",
              "    .dataframe tbody tr th:only-of-type {\n",
              "        vertical-align: middle;\n",
              "    }\n",
              "\n",
              "    .dataframe tbody tr th {\n",
              "        vertical-align: top;\n",
              "    }\n",
              "\n",
              "    .dataframe thead th {\n",
              "        text-align: right;\n",
              "    }\n",
              "</style>\n",
              "<table border=\"1\" class=\"dataframe\">\n",
              "  <thead>\n",
              "    <tr style=\"text-align: right;\">\n",
              "      <th></th>\n",
              "      <th>single_sample</th>\n",
              "    </tr>\n",
              "  </thead>\n",
              "  <tbody>\n",
              "    <tr>\n",
              "      <th>0</th>\n",
              "      <td>0</td>\n",
              "    </tr>\n",
              "    <tr>\n",
              "      <th>1</th>\n",
              "      <td>0</td>\n",
              "    </tr>\n",
              "    <tr>\n",
              "      <th>2</th>\n",
              "      <td>1</td>\n",
              "    </tr>\n",
              "    <tr>\n",
              "      <th>3</th>\n",
              "      <td>1</td>\n",
              "    </tr>\n",
              "    <tr>\n",
              "      <th>4</th>\n",
              "      <td>0</td>\n",
              "    </tr>\n",
              "  </tbody>\n",
              "</table>\n",
              "</div>"
            ],
            "text/plain": [
              "   single_sample\n",
              "0              0\n",
              "1              0\n",
              "2              1\n",
              "3              1\n",
              "4              0"
            ]
          },
          "metadata": {
            "tags": []
          },
          "execution_count": 13
        }
      ]
    },
    {
      "cell_type": "code",
      "metadata": {
        "id": "2gkvtYfkB9AE",
        "colab_type": "code",
        "colab": {},
        "outputId": "16e06c31-2235-41bb-d604-2d0b71ffc447"
      },
      "source": [
        "df.single_sample.hist();"
      ],
      "execution_count": null,
      "outputs": [
        {
          "output_type": "display_data",
          "data": {
            "image/png": "[encoded data removed]",
            "text/plain": [
              "<Figure size 432x288 with 1 Axes>"
            ]
          },
          "metadata": {
            "tags": [],
            "needs_background": "light"
          }
        }
      ]
    },
    {
      "cell_type": "code",
      "metadata": {
        "id": "SWsfXx5OB9AG",
        "colab_type": "code",
        "colab": {},
        "outputId": "bfce8b8f-8ea6-46c4-db8d-04d6d3fc3923"
      },
      "source": [
        "ax = plt.hist(sample_means)\n",
        "plt.title('Distribution of 3000 sample means \\n (of 12 coinflips each)')"
      ],
      "execution_count": null,
      "outputs": [
        {
          "output_type": "execute_result",
          "data": {
            "text/plain": [
              "Text(0.5, 1.0, 'Distribution of 3000 sample means \\n (of 12 coinflips each)')"
            ]
          },
          "metadata": {
            "tags": []
          },
          "execution_count": 16
        },
        {
          "output_type": "display_data",
          "data": {
            "image/png": "[encoded data removed]",
            "text/plain": [
              "<Figure size 432x288 with 1 Axes>"
            ]
          },
          "metadata": {
            "tags": [],
            "needs_background": "light"
          }
        }
      ]
    },
    {
      "cell_type": "code",
      "metadata": {
        "id": "99r1hV7HB9AI",
        "colab_type": "code",
        "colab": {},
        "outputId": "7c0d6fa4-d0db-4d9c-cf2c-0c656450c925"
      },
      "source": [
        "sample_means_small = []\n",
        "sample_means_medium = []\n",
        "sample_means_large = []\n",
        "\n",
        "for x in range(0, 3000):\n",
        "    coinflips_small = np.random.binomial(n=1, p=.5, size=20)\n",
        "    coinflips_medium = np.random.binomial(n=1, p=.5, size=50)\n",
        "    coinflips_large = np.random.binomial(n=1, p=.5, size=100)\n",
        "    one_small_sample = coinflips_small\n",
        "    one_small_sample = coinflips_medium\n",
        "    one_large_sample = coinflips_large\n",
        "    sample_means_small.append(coinflips_small.mean())\n",
        "    sample_means_medium.append(coinflips_medium.mean())\n",
        "    sample_means_large.append(coinflips_large.mean())\n",
        "print(len(sample_means_small))\n",
        "print(sample_means_small[0:10])"
      ],
      "execution_count": null,
      "outputs": [
        {
          "output_type": "stream",
          "text": [
            "3000\n",
            "[0.55, 0.5, 0.45, 0.45, 0.6, 0.45, 0.65, 0.4, 0.45, 0.65]\n"
          ],
          "name": "stdout"
        }
      ]
    },
    {
      "cell_type": "code",
      "metadata": {
        "id": "ff6RlzD-B9AL",
        "colab_type": "code",
        "colab": {},
        "outputId": "8f2f8459-4dd8-458a-eacd-4bef5476ea4b"
      },
      "source": [
        "import seaborn as sns\n",
        "fix, ax = plt.subplots()\n",
        "for sample in [sample_means_small, sample_means_medium ,sample_means_large]:\n",
        "    sns.distplot(sample)"
      ],
      "execution_count": null,
      "outputs": [
        {
          "output_type": "display_data",
          "data": {
            "image/png": "[encoded data removed]",
            "text/plain": [
              "<Figure size 432x288 with 1 Axes>"
            ]
          },
          "metadata": {
            "tags": [],
            "needs_background": "light"
          }
        }
      ]
    },
    {
      "cell_type": "code",
      "metadata": {
        "id": "hxmpYurbB9AN",
        "colab_type": "code",
        "colab": {},
        "outputId": "6444ae48-f0d3-48f6-f155-c3c08f6a2071"
      },
      "source": [
        "from scipy import stats\n",
        "\n",
        "def confidence_interval(data, confidence=0.95):\n",
        "    data = np.array(data)\n",
        "    mean = np.mean(data)\n",
        "    n = len(data)\n",
        "    stderr = stats.sem(data)\n",
        "\n",
        "    interval = stderr * stats.t.ppf((1 + confidence) / 2.0, n - 1)\n",
        "    return(mean, mean - interval, mean + interval)\n",
        "\n",
        "confidence_interval([1,2,3,1,2,3,1,2,3])\n"
      ],
      "execution_count": null,
      "outputs": [
        {
          "output_type": "execute_result",
          "data": {
            "text/plain": [
              "(2.0, 1.3343139459430469, 2.665686054056953)"
            ]
          },
          "metadata": {
            "tags": []
          },
          "execution_count": 32
        }
      ]
    },
    {
      "cell_type": "markdown",
      "metadata": {
        "id": "P34I_A5LB9AP",
        "colab_type": "text"
      },
      "source": [
        "# 신뢰구간 시각화\n",
        "\n"
      ]
    },
    {
      "cell_type": "code",
      "metadata": {
        "id": "6JAqP6cLB9AQ",
        "colab_type": "code",
        "colab": {},
        "outputId": "ff05a988-e130-4512-f82f-cf823fc6de49"
      },
      "source": [
        "x = np.linspace(0,4,101)\n",
        "y = stats.norm(2, 0.75).pdf(x)\n",
        "\n",
        "plt.plot(x,y)\n",
        "\n",
        "plt.plot([2,2], [0,0.7], 'k-', lw =2, color = 'red')\n",
        "plt.plot([1.3343139459430469, 1.3343139459430469], [0,0.7], 'k-', lw =2, color = 'green')\n",
        "plt.plot([2.665686054056953, 2.665686054056953], [0,0.7], 'k-', lw =2, color = 'blue')"
      ],
      "execution_count": null,
      "outputs": [
        {
          "output_type": "execute_result",
          "data": {
            "text/plain": [
              "[<matplotlib.lines.Line2D at 0x1a194d2bd0>]"
            ]
          },
          "metadata": {
            "tags": []
          },
          "execution_count": 36
        },
        {
          "output_type": "display_data",
          "data": {
            "image/png": "[encoded data removed]",
            "text/plain": [
              "<Figure size 432x288 with 1 Axes>"
            ]
          },
          "metadata": {
            "tags": [],
            "needs_background": "light"
          }
        }
      ]
    },
    {
      "cell_type": "code",
      "metadata": {
        "id": "oDcSLolgB9AT",
        "colab_type": "code",
        "colab": {}
      },
      "source": [
        "from scipy.stats import t, ttest_1samp"
      ],
      "execution_count": null,
      "outputs": []
    },
    {
      "cell_type": "code",
      "metadata": {
        "id": "MBBLgiXQB9AV",
        "colab_type": "code",
        "colab": {}
      },
      "source": [
        "import numpy as np\n",
        "coinflips_means = []\n",
        "for x in range(0,100):\n",
        "  coinflips = np.random.binomial(n=1, p=.5, size=30)\n",
        "  coinflips_means.append(coinflips.mean())"
      ],
      "execution_count": null,
      "outputs": []
    },
    {
      "cell_type": "code",
      "metadata": {
        "id": "K3QGHsbmB9AW",
        "colab_type": "code",
        "colab": {},
        "outputId": "0e449957-c661-43d5-e3d5-fec1dbfccd0e"
      },
      "source": [
        "n = len(coinflips_means)\n",
        "dof = n -1\n",
        "mean = np.mean(coinflips_means)\n",
        "sample_std = np.std(coinflips_means, ddof=1)\n",
        "std_err = sample_std/n**.5\n",
        "\n",
        "CI =t.interval(.95, dof, loc = mean, scale = std_err)\n",
        "print(\"95% 신뢰구간:\", CI)"
      ],
      "execution_count": null,
      "outputs": [
        {
          "output_type": "stream",
          "text": [
            "95% 신뢰구간: (0.47752729972615476, 0.5158060336071785)\n"
          ],
          "name": "stdout"
        }
      ]
    },
    {
      "cell_type": "markdown",
      "metadata": {
        "id": "ZKUIe0BAB9AZ",
        "colab_type": "text"
      },
      "source": [
        "\n",
        "서울시 기간별 시간평균 대기환경 정보 데이터셋을 이용합니다.\n",
        "\n",
        "<img src='https://user-images.githubusercontent.com/6457691/89852263-740add80-dbc9-11ea-9e6b-8059b3f7e479.png'>\n",
        "\n",
        "<https://data.seoul.go.kr/dataList/OA-2221/S/1/datasetView.do>\n",
        "\n",
        "## 사이즈가 너무 크기 때문에 모든 데이터셋을 사용하지 않으며, 특정 한달동안의, 특정 지역만의 데이터만을 사용하세요.\n",
        "\n",
        "## 1단계 - 준비\n",
        "\n",
        "**1) 데이터셋 불러오기**"
      ]
    },
    {
      "cell_type": "markdown",
      "metadata": {
        "colab_type": "text",
        "id": "wOQ-9E8uYcni"
      },
      "source": [
        "**2) 데이터셋에서 임의의 2 샘플을 선택하세요, 1개는 20개의 데이터, 다른 1개는 200개의 데이터이며, 매 시행마다 동일한 결과물을 위해 `42`를 `random_state`로 사용합니다.**"
      ]
    },
    {
      "cell_type": "code",
      "metadata": {
        "colab_type": "code",
        "id": "m1vuFGxVQo64",
        "colab": {},
        "outputId": "a29a6124-cf8c-4a53-fdb8-8642b4ce55ea"
      },
      "source": [
        "## 2) 데이터셋에서 임의의 2 샘플을 선택하세요, 1개는 20개의 데이터, 다른 1개는 200개의 데이터이며, 매 시행마다 동일한 결과물을 위해 `42`를 `random_state`로 사용합니다.**\n",
        "%mv /Users/ohsekwang/jupyter tutorial/code states/dataset/서울시_기간별_시간평균_대기환경_정보_2020.04.csv"
      ],
      "execution_count": null,
      "outputs": [
        {
          "output_type": "stream",
          "text": [
            "usage: mv [-f | -i | -n] [-v] source target\r\n",
            "       mv [-f | -i | -n] [-v] source ... directory\r\n"
          ],
          "name": "stdout"
        }
      ]
    },
    {
      "cell_type": "code",
      "metadata": {
        "id": "ssy64LOhB9Ac",
        "colab_type": "code",
        "colab": {},
        "outputId": "d6fb6d48-b036-4a8d-905e-a39e1ea0b961"
      },
      "source": [
        "%cd dataset\n",
        "%pwd"
      ],
      "execution_count": null,
      "outputs": [
        {
          "output_type": "stream",
          "text": [
            "[Errno 2] No such file or directory: 'dataset'\n",
            "/Users/ohsekwang/jupyter tutorial/code states/dataset\n"
          ],
          "name": "stdout"
        },
        {
          "output_type": "execute_result",
          "data": {
            "text/plain": [
              "'/Users/ohsekwang/jupyter tutorial/code states/dataset'"
            ]
          },
          "metadata": {
            "tags": []
          },
          "execution_count": 56
        }
      ]
    },
    {
      "cell_type": "code",
      "metadata": {
        "id": "9QltnyxgB9Ae",
        "colab_type": "code",
        "colab": {},
        "outputId": "c6e8ac87-8763-4013-855d-0d3ad06ca776"
      },
      "source": [
        "%ls"
      ],
      "execution_count": null,
      "outputs": [
        {
          "output_type": "stream",
          "text": [
            "서울시_기간별_시간평균_대기환경_정보_2020.04.csv\r\n"
          ],
          "name": "stdout"
        }
      ]
    },
    {
      "cell_type": "code",
      "metadata": {
        "scrolled": true,
        "id": "NY8kVKtNB9Ag",
        "colab_type": "code",
        "colab": {},
        "outputId": "6e3af126-6abb-4cf6-bcb7-101694e7f858"
      },
      "source": [
        "import pandas as pd\n",
        "df = pd.read_csv(\"서울시_기간별_시간평균_대기환경_정보_2020.04.csv\", encoding=\"cp949\")\n",
        "df"
      ],
      "execution_count": null,
      "outputs": [
        {
          "output_type": "execute_result",
          "data": {
            "text/html": [
              "<div>\n",
              "<style scoped>\n",
              "    .dataframe tbody tr th:only-of-type {\n",
              "        vertical-align: middle;\n",
              "    }\n",
              "\n",
              "    .dataframe tbody tr th {\n",
              "        vertical-align: top;\n",
              "    }\n",
              "\n",
              "    .dataframe thead th {\n",
              "        text-align: right;\n",
              "    }\n",
              "</style>\n",
              "<table border=\"1\" class=\"dataframe\">\n",
              "  <thead>\n",
              "    <tr style=\"text-align: right;\">\n",
              "      <th></th>\n",
              "      <th>측정일시</th>\n",
              "      <th>권역코드</th>\n",
              "      <th>권역명</th>\n",
              "      <th>측정소코드</th>\n",
              "      <th>측정소명</th>\n",
              "      <th>미세먼지 1시간(㎍/㎥)</th>\n",
              "      <th>미세먼지 24시간(㎍/㎥)</th>\n",
              "      <th>초미세먼지(㎍/㎥)</th>\n",
              "      <th>오존(ppm)</th>\n",
              "      <th>이산화질소농도(ppm)</th>\n",
              "      <th>일산화탄소농도(ppm)</th>\n",
              "      <th>아황산가스농도(ppm)</th>\n",
              "    </tr>\n",
              "  </thead>\n",
              "  <tbody>\n",
              "    <tr>\n",
              "      <th>0</th>\n",
              "      <td>202004302300</td>\n",
              "      <td>100</td>\n",
              "      <td>도심권</td>\n",
              "      <td>111123</td>\n",
              "      <td>종로구</td>\n",
              "      <td>40</td>\n",
              "      <td>43</td>\n",
              "      <td>21</td>\n",
              "      <td>0.036</td>\n",
              "      <td>0.008</td>\n",
              "      <td>0.3</td>\n",
              "      <td>0.003</td>\n",
              "    </tr>\n",
              "    <tr>\n",
              "      <th>1</th>\n",
              "      <td>202004302300</td>\n",
              "      <td>100</td>\n",
              "      <td>도심권</td>\n",
              "      <td>111121</td>\n",
              "      <td>중구</td>\n",
              "      <td>31</td>\n",
              "      <td>41</td>\n",
              "      <td>22</td>\n",
              "      <td>0.037</td>\n",
              "      <td>0.010</td>\n",
              "      <td>0.3</td>\n",
              "      <td>0.003</td>\n",
              "    </tr>\n",
              "    <tr>\n",
              "      <th>2</th>\n",
              "      <td>202004302300</td>\n",
              "      <td>100</td>\n",
              "      <td>도심권</td>\n",
              "      <td>111131</td>\n",
              "      <td>용산구</td>\n",
              "      <td>41</td>\n",
              "      <td>40</td>\n",
              "      <td>21</td>\n",
              "      <td>0.035</td>\n",
              "      <td>0.011</td>\n",
              "      <td>0.3</td>\n",
              "      <td>0.002</td>\n",
              "    </tr>\n",
              "    <tr>\n",
              "      <th>3</th>\n",
              "      <td>202004302300</td>\n",
              "      <td>101</td>\n",
              "      <td>서북권</td>\n",
              "      <td>111181</td>\n",
              "      <td>은평구</td>\n",
              "      <td>32</td>\n",
              "      <td>37</td>\n",
              "      <td>20</td>\n",
              "      <td>0.053</td>\n",
              "      <td>0.005</td>\n",
              "      <td>0.3</td>\n",
              "      <td>0.003</td>\n",
              "    </tr>\n",
              "    <tr>\n",
              "      <th>4</th>\n",
              "      <td>202004302300</td>\n",
              "      <td>101</td>\n",
              "      <td>서북권</td>\n",
              "      <td>111201</td>\n",
              "      <td>마포구</td>\n",
              "      <td>34</td>\n",
              "      <td>34</td>\n",
              "      <td>21</td>\n",
              "      <td>0.043</td>\n",
              "      <td>0.009</td>\n",
              "      <td>0.3</td>\n",
              "      <td>0.002</td>\n",
              "    </tr>\n",
              "    <tr>\n",
              "      <th>...</th>\n",
              "      <td>...</td>\n",
              "      <td>...</td>\n",
              "      <td>...</td>\n",
              "      <td>...</td>\n",
              "      <td>...</td>\n",
              "      <td>...</td>\n",
              "      <td>...</td>\n",
              "      <td>...</td>\n",
              "      <td>...</td>\n",
              "      <td>...</td>\n",
              "      <td>...</td>\n",
              "      <td>...</td>\n",
              "    </tr>\n",
              "    <tr>\n",
              "      <th>17995</th>\n",
              "      <td>202004010000</td>\n",
              "      <td>103</td>\n",
              "      <td>서남권</td>\n",
              "      <td>111301</td>\n",
              "      <td>양천구</td>\n",
              "      <td>52</td>\n",
              "      <td>48</td>\n",
              "      <td>25</td>\n",
              "      <td>0.026</td>\n",
              "      <td>0.030</td>\n",
              "      <td>0.5</td>\n",
              "      <td>0.005</td>\n",
              "    </tr>\n",
              "    <tr>\n",
              "      <th>17996</th>\n",
              "      <td>202004010000</td>\n",
              "      <td>104</td>\n",
              "      <td>동남권</td>\n",
              "      <td>111273</td>\n",
              "      <td>송파구</td>\n",
              "      <td>51</td>\n",
              "      <td>48</td>\n",
              "      <td>22</td>\n",
              "      <td>0.020</td>\n",
              "      <td>0.041</td>\n",
              "      <td>0.6</td>\n",
              "      <td>0.003</td>\n",
              "    </tr>\n",
              "    <tr>\n",
              "      <th>17997</th>\n",
              "      <td>202004010000</td>\n",
              "      <td>104</td>\n",
              "      <td>동남권</td>\n",
              "      <td>111261</td>\n",
              "      <td>강남구</td>\n",
              "      <td>44</td>\n",
              "      <td>43</td>\n",
              "      <td>25</td>\n",
              "      <td>0.025</td>\n",
              "      <td>0.038</td>\n",
              "      <td>0.5</td>\n",
              "      <td>0.003</td>\n",
              "    </tr>\n",
              "    <tr>\n",
              "      <th>17998</th>\n",
              "      <td>202004010000</td>\n",
              "      <td>104</td>\n",
              "      <td>동남권</td>\n",
              "      <td>111274</td>\n",
              "      <td>강동구</td>\n",
              "      <td>51</td>\n",
              "      <td>49</td>\n",
              "      <td>23</td>\n",
              "      <td>0.018</td>\n",
              "      <td>0.040</td>\n",
              "      <td>0.5</td>\n",
              "      <td>0.004</td>\n",
              "    </tr>\n",
              "    <tr>\n",
              "      <th>17999</th>\n",
              "      <td>202004010000</td>\n",
              "      <td>104</td>\n",
              "      <td>동남권</td>\n",
              "      <td>111262</td>\n",
              "      <td>서초구</td>\n",
              "      <td>55</td>\n",
              "      <td>52</td>\n",
              "      <td>22</td>\n",
              "      <td>0.036</td>\n",
              "      <td>0.027</td>\n",
              "      <td>0.3</td>\n",
              "      <td>0.004</td>\n",
              "    </tr>\n",
              "  </tbody>\n",
              "</table>\n",
              "<p>18000 rows × 12 columns</p>\n",
              "</div>"
            ],
            "text/plain": [
              "               측정일시  권역코드  권역명   측정소코드 측정소명  미세먼지 1시간(㎍/㎥)  미세먼지 24시간(㎍/㎥)  \\\n",
              "0      202004302300   100  도심권  111123  종로구             40              43   \n",
              "1      202004302300   100  도심권  111121   중구             31              41   \n",
              "2      202004302300   100  도심권  111131  용산구             41              40   \n",
              "3      202004302300   101  서북권  111181  은평구             32              37   \n",
              "4      202004302300   101  서북권  111201  마포구             34              34   \n",
              "...             ...   ...  ...     ...  ...            ...             ...   \n",
              "17995  202004010000   103  서남권  111301  양천구             52              48   \n",
              "17996  202004010000   104  동남권  111273  송파구             51              48   \n",
              "17997  202004010000   104  동남권  111261  강남구             44              43   \n",
              "17998  202004010000   104  동남권  111274  강동구             51              49   \n",
              "17999  202004010000   104  동남권  111262  서초구             55              52   \n",
              "\n",
              "       초미세먼지(㎍/㎥)  오존(ppm)  이산화질소농도(ppm)  일산화탄소농도(ppm)  아황산가스농도(ppm)  \n",
              "0              21    0.036         0.008           0.3         0.003  \n",
              "1              22    0.037         0.010           0.3         0.003  \n",
              "2              21    0.035         0.011           0.3         0.002  \n",
              "3              20    0.053         0.005           0.3         0.003  \n",
              "4              21    0.043         0.009           0.3         0.002  \n",
              "...           ...      ...           ...           ...           ...  \n",
              "17995          25    0.026         0.030           0.5         0.005  \n",
              "17996          22    0.020         0.041           0.6         0.003  \n",
              "17997          25    0.025         0.038           0.5         0.003  \n",
              "17998          23    0.018         0.040           0.5         0.004  \n",
              "17999          22    0.036         0.027           0.3         0.004  \n",
              "\n",
              "[18000 rows x 12 columns]"
            ]
          },
          "metadata": {
            "tags": []
          },
          "execution_count": 125
        }
      ]
    },
    {
      "cell_type": "code",
      "metadata": {
        "id": "nHerfEUaB9Ai",
        "colab_type": "code",
        "colab": {},
        "outputId": "6614cfbb-e99c-41b2-f070-d39759330028"
      },
      "source": [
        "#데이터 filter\n",
        "import numpy as np\n",
        "import matplotlib.pyplot as plt\n",
        "\n",
        "condition1 = ((df['측정소명'] == '강남구'))\n",
        "df_select1 = df[condition1]\n",
        "display(df_select1)\n",
        "\n",
        "\n",
        "\n",
        "# condition2 = ((df['측정소명'] == '서초구'))\n",
        "# df_select2 = df[condition2]\n",
        "# display(df_select2)\n",
        "\n",
        "np.random.seed(42)"
      ],
      "execution_count": null,
      "outputs": [
        {
          "output_type": "display_data",
          "data": {
            "text/html": [
              "<div>\n",
              "<style scoped>\n",
              "    .dataframe tbody tr th:only-of-type {\n",
              "        vertical-align: middle;\n",
              "    }\n",
              "\n",
              "    .dataframe tbody tr th {\n",
              "        vertical-align: top;\n",
              "    }\n",
              "\n",
              "    .dataframe thead th {\n",
              "        text-align: right;\n",
              "    }\n",
              "</style>\n",
              "<table border=\"1\" class=\"dataframe\">\n",
              "  <thead>\n",
              "    <tr style=\"text-align: right;\">\n",
              "      <th></th>\n",
              "      <th>측정일시</th>\n",
              "      <th>권역코드</th>\n",
              "      <th>권역명</th>\n",
              "      <th>측정소코드</th>\n",
              "      <th>측정소명</th>\n",
              "      <th>미세먼지 1시간(㎍/㎥)</th>\n",
              "      <th>미세먼지 24시간(㎍/㎥)</th>\n",
              "      <th>초미세먼지(㎍/㎥)</th>\n",
              "      <th>오존(ppm)</th>\n",
              "      <th>이산화질소농도(ppm)</th>\n",
              "      <th>일산화탄소농도(ppm)</th>\n",
              "      <th>아황산가스농도(ppm)</th>\n",
              "    </tr>\n",
              "  </thead>\n",
              "  <tbody>\n",
              "    <tr>\n",
              "      <th>22</th>\n",
              "      <td>202004302300</td>\n",
              "      <td>104</td>\n",
              "      <td>동남권</td>\n",
              "      <td>111261</td>\n",
              "      <td>강남구</td>\n",
              "      <td>32</td>\n",
              "      <td>34</td>\n",
              "      <td>23</td>\n",
              "      <td>0.046</td>\n",
              "      <td>0.008</td>\n",
              "      <td>0.4</td>\n",
              "      <td>0.002</td>\n",
              "    </tr>\n",
              "    <tr>\n",
              "      <th>46</th>\n",
              "      <td>202004302200</td>\n",
              "      <td>104</td>\n",
              "      <td>동남권</td>\n",
              "      <td>111261</td>\n",
              "      <td>강남구</td>\n",
              "      <td>34</td>\n",
              "      <td>34</td>\n",
              "      <td>21</td>\n",
              "      <td>0.045</td>\n",
              "      <td>0.008</td>\n",
              "      <td>0.4</td>\n",
              "      <td>0.002</td>\n",
              "    </tr>\n",
              "    <tr>\n",
              "      <th>74</th>\n",
              "      <td>202004302100</td>\n",
              "      <td>104</td>\n",
              "      <td>동남권</td>\n",
              "      <td>111261</td>\n",
              "      <td>강남구</td>\n",
              "      <td>37</td>\n",
              "      <td>33</td>\n",
              "      <td>24</td>\n",
              "      <td>0.043</td>\n",
              "      <td>0.009</td>\n",
              "      <td>0.4</td>\n",
              "      <td>0.002</td>\n",
              "    </tr>\n",
              "    <tr>\n",
              "      <th>96</th>\n",
              "      <td>202004302000</td>\n",
              "      <td>104</td>\n",
              "      <td>동남권</td>\n",
              "      <td>111261</td>\n",
              "      <td>강남구</td>\n",
              "      <td>35</td>\n",
              "      <td>33</td>\n",
              "      <td>22</td>\n",
              "      <td>0.045</td>\n",
              "      <td>0.012</td>\n",
              "      <td>0.4</td>\n",
              "      <td>0.002</td>\n",
              "    </tr>\n",
              "    <tr>\n",
              "      <th>121</th>\n",
              "      <td>202004301900</td>\n",
              "      <td>104</td>\n",
              "      <td>동남권</td>\n",
              "      <td>111261</td>\n",
              "      <td>강남구</td>\n",
              "      <td>36</td>\n",
              "      <td>33</td>\n",
              "      <td>22</td>\n",
              "      <td>0.051</td>\n",
              "      <td>0.014</td>\n",
              "      <td>0.4</td>\n",
              "      <td>0.002</td>\n",
              "    </tr>\n",
              "    <tr>\n",
              "      <th>...</th>\n",
              "      <td>...</td>\n",
              "      <td>...</td>\n",
              "      <td>...</td>\n",
              "      <td>...</td>\n",
              "      <td>...</td>\n",
              "      <td>...</td>\n",
              "      <td>...</td>\n",
              "      <td>...</td>\n",
              "      <td>...</td>\n",
              "      <td>...</td>\n",
              "      <td>...</td>\n",
              "      <td>...</td>\n",
              "    </tr>\n",
              "    <tr>\n",
              "      <th>17896</th>\n",
              "      <td>202004010400</td>\n",
              "      <td>104</td>\n",
              "      <td>동남권</td>\n",
              "      <td>111261</td>\n",
              "      <td>강남구</td>\n",
              "      <td>58</td>\n",
              "      <td>53</td>\n",
              "      <td>34</td>\n",
              "      <td>0.038</td>\n",
              "      <td>0.025</td>\n",
              "      <td>0.6</td>\n",
              "      <td>0.004</td>\n",
              "    </tr>\n",
              "    <tr>\n",
              "      <th>17922</th>\n",
              "      <td>202004010300</td>\n",
              "      <td>104</td>\n",
              "      <td>동남권</td>\n",
              "      <td>111261</td>\n",
              "      <td>강남구</td>\n",
              "      <td>54</td>\n",
              "      <td>51</td>\n",
              "      <td>30</td>\n",
              "      <td>0.032</td>\n",
              "      <td>0.025</td>\n",
              "      <td>0.5</td>\n",
              "      <td>0.003</td>\n",
              "    </tr>\n",
              "    <tr>\n",
              "      <th>17947</th>\n",
              "      <td>202004010200</td>\n",
              "      <td>104</td>\n",
              "      <td>동남권</td>\n",
              "      <td>111261</td>\n",
              "      <td>강남구</td>\n",
              "      <td>50</td>\n",
              "      <td>50</td>\n",
              "      <td>27</td>\n",
              "      <td>0.034</td>\n",
              "      <td>0.024</td>\n",
              "      <td>0.5</td>\n",
              "      <td>0.004</td>\n",
              "    </tr>\n",
              "    <tr>\n",
              "      <th>17974</th>\n",
              "      <td>202004010100</td>\n",
              "      <td>104</td>\n",
              "      <td>동남권</td>\n",
              "      <td>111261</td>\n",
              "      <td>강남구</td>\n",
              "      <td>49</td>\n",
              "      <td>49</td>\n",
              "      <td>25</td>\n",
              "      <td>0.029</td>\n",
              "      <td>0.031</td>\n",
              "      <td>0.5</td>\n",
              "      <td>0.003</td>\n",
              "    </tr>\n",
              "    <tr>\n",
              "      <th>17997</th>\n",
              "      <td>202004010000</td>\n",
              "      <td>104</td>\n",
              "      <td>동남권</td>\n",
              "      <td>111261</td>\n",
              "      <td>강남구</td>\n",
              "      <td>44</td>\n",
              "      <td>43</td>\n",
              "      <td>25</td>\n",
              "      <td>0.025</td>\n",
              "      <td>0.038</td>\n",
              "      <td>0.5</td>\n",
              "      <td>0.003</td>\n",
              "    </tr>\n",
              "  </tbody>\n",
              "</table>\n",
              "<p>720 rows × 12 columns</p>\n",
              "</div>"
            ],
            "text/plain": [
              "               측정일시  권역코드  권역명   측정소코드 측정소명  미세먼지 1시간(㎍/㎥)  미세먼지 24시간(㎍/㎥)  \\\n",
              "22     202004302300   104  동남권  111261  강남구             32              34   \n",
              "46     202004302200   104  동남권  111261  강남구             34              34   \n",
              "74     202004302100   104  동남권  111261  강남구             37              33   \n",
              "96     202004302000   104  동남권  111261  강남구             35              33   \n",
              "121    202004301900   104  동남권  111261  강남구             36              33   \n",
              "...             ...   ...  ...     ...  ...            ...             ...   \n",
              "17896  202004010400   104  동남권  111261  강남구             58              53   \n",
              "17922  202004010300   104  동남권  111261  강남구             54              51   \n",
              "17947  202004010200   104  동남권  111261  강남구             50              50   \n",
              "17974  202004010100   104  동남권  111261  강남구             49              49   \n",
              "17997  202004010000   104  동남권  111261  강남구             44              43   \n",
              "\n",
              "       초미세먼지(㎍/㎥)  오존(ppm)  이산화질소농도(ppm)  일산화탄소농도(ppm)  아황산가스농도(ppm)  \n",
              "22             23    0.046         0.008           0.4         0.002  \n",
              "46             21    0.045         0.008           0.4         0.002  \n",
              "74             24    0.043         0.009           0.4         0.002  \n",
              "96             22    0.045         0.012           0.4         0.002  \n",
              "121            22    0.051         0.014           0.4         0.002  \n",
              "...           ...      ...           ...           ...           ...  \n",
              "17896          34    0.038         0.025           0.6         0.004  \n",
              "17922          30    0.032         0.025           0.5         0.003  \n",
              "17947          27    0.034         0.024           0.5         0.004  \n",
              "17974          25    0.029         0.031           0.5         0.003  \n",
              "17997          25    0.025         0.038           0.5         0.003  \n",
              "\n",
              "[720 rows x 12 columns]"
            ]
          },
          "metadata": {
            "tags": []
          }
        }
      ]
    },
    {
      "cell_type": "markdown",
      "metadata": {
        "colab_type": "text",
        "id": "y2Rz-8O-YmF9"
      },
      "source": [
        "**3) 두 샘플데이터에 대해서 `오존(ppm)`항목의 표본 평균을 계산하세요.**"
      ]
    },
    {
      "cell_type": "code",
      "metadata": {
        "id": "VyRDuRpUB9Al",
        "colab_type": "code",
        "colab": {},
        "outputId": "995fb976-3f30-432d-fb62-dd9bd4a80575"
      },
      "source": [
        "#전체 데이터의 mean값\n",
        "df_total = df_select1\n",
        "df_total_data = df_total['오존(ppm)'].mean()\n",
        "display(df_total_data)\n",
        "\n",
        "\n",
        "# 20개 데이터\n",
        "df_sample1 = df_select1[0:10]\n",
        "df_sample1_data = df_sample1['오존(ppm)']\n",
        "\n",
        "\n",
        "# 200개 데이터\n",
        "df_sample2 = df_select1[100:300]\n",
        "df_sample2_data = df_sample2['오존(ppm)']\n",
        "display(df_sample2_data)\n",
        "\n",
        "from scipy import stats\n",
        "\n",
        "display(df_sample1['오존(ppm)'].mean())\n",
        "display(df_sample2['오존(ppm)'].mean())\n"
      ],
      "execution_count": null,
      "outputs": [
        {
          "output_type": "display_data",
          "data": {
            "text/plain": [
              "0.037797222222222183"
            ]
          },
          "metadata": {
            "tags": []
          }
        },
        {
          "output_type": "display_data",
          "data": {
            "text/plain": [
              "2522    0.053\n",
              "2546    0.051\n",
              "2573    0.050\n",
              "2597    0.051\n",
              "2623    0.052\n",
              "        ...  \n",
              "7399    0.051\n",
              "7421    0.051\n",
              "7446    0.048\n",
              "7471    0.044\n",
              "7499    0.037\n",
              "Name: 오존(ppm), Length: 200, dtype: float64"
            ]
          },
          "metadata": {
            "tags": []
          }
        },
        {
          "output_type": "display_data",
          "data": {
            "text/plain": [
              "0.058699999999999995"
            ]
          },
          "metadata": {
            "tags": []
          }
        },
        {
          "output_type": "display_data",
          "data": {
            "text/plain": [
              "0.03775499999999999"
            ]
          },
          "metadata": {
            "tags": []
          }
        }
      ]
    },
    {
      "cell_type": "markdown",
      "metadata": {
        "colab_type": "text",
        "id": "AtGASqgxYp5t"
      },
      "source": [
        "**4) 모든 샘플 평균은 각각 데이터로 부터 나온 추정값입니다. 모집단의 평균을 추정할때의 어느 샘플 평균 값을 더 신뢰하게 될까요?**"
      ]
    },
    {
      "cell_type": "code",
      "metadata": {
        "colab_type": "code",
        "id": "aBjfrGaBcteJ",
        "colab": {}
      },
      "source": [
        "### 상대적으로 샘플의 수가 많은 df_sample2(200개 데이터)를 더 신뢰하게 됩니다. 그 이유는 샘플의 수가 많을수록 모집단의 평균에 근사치로 측정할 수 있습니다. \n"
      ],
      "execution_count": null,
      "outputs": []
    },
    {
      "cell_type": "markdown",
      "metadata": {
        "colab_type": "text",
        "id": "-2ulIAGmYudp"
      },
      "source": [
        "**5) 모집단의 평균에 대한 추정을 하세요.**"
      ]
    },
    {
      "cell_type": "code",
      "metadata": {
        "colab_type": "code",
        "id": "UsGSthb0cteM",
        "colab": {},
        "outputId": "14dab50c-24b9-4843-aab7-c091ed5e95a6"
      },
      "source": [
        "from scipy import stats\n",
        "def confidence_interval(data, confidence=0.95):\n",
        "    \n",
        "    data = np.array(data)\n",
        "    mean = np.mean(data)\n",
        "    n = len(data)\n",
        "    stderr = stats.sem(data)\n",
        "    interval = stderr / stats.t.ppf((1 + confidence)/2.0, n-1)\n",
        "    return(mean - interval, mean, mean + interval)\n",
        "\n",
        "\n",
        "confidence_interval(df_sample2_data)"
      ],
      "execution_count": null,
      "outputs": [
        {
          "output_type": "error",
          "ename": "NameError",
          "evalue": "name 'stderr' is not defined",
          "traceback": [
            "\u001b[0;31m---------------------------------------------------------------------------\u001b[0m",
            "\u001b[0;31mNameError\u001b[0m                                 Traceback (most recent call last)",
            "\u001b[0;32m<ipython-input-181-d1c961bfe1be>\u001b[0m in \u001b[0;36m<module>\u001b[0;34m\u001b[0m\n\u001b[1;32m      9\u001b[0m     \u001b[0;32mreturn\u001b[0m\u001b[0;34m(\u001b[0m\u001b[0mmean\u001b[0m \u001b[0;34m-\u001b[0m \u001b[0minterval\u001b[0m\u001b[0;34m,\u001b[0m \u001b[0mmean\u001b[0m\u001b[0;34m,\u001b[0m \u001b[0mmean\u001b[0m \u001b[0;34m+\u001b[0m \u001b[0minterval\u001b[0m\u001b[0;34m)\u001b[0m\u001b[0;34m\u001b[0m\u001b[0;34m\u001b[0m\u001b[0m\n\u001b[1;32m     10\u001b[0m \u001b[0;34m\u001b[0m\u001b[0m\n\u001b[0;32m---> 11\u001b[0;31m \u001b[0mdisplay\u001b[0m\u001b[0;34m(\u001b[0m\u001b[0mstderr\u001b[0m\u001b[0;34m)\u001b[0m\u001b[0;34m\u001b[0m\u001b[0;34m\u001b[0m\u001b[0m\n\u001b[0m\u001b[1;32m     12\u001b[0m \u001b[0mconfidence_interval\u001b[0m\u001b[0;34m(\u001b[0m\u001b[0mdf_sample2_data\u001b[0m\u001b[0;34m)\u001b[0m\u001b[0;34m\u001b[0m\u001b[0;34m\u001b[0m\u001b[0m\n",
            "\u001b[0;31mNameError\u001b[0m: name 'stderr' is not defined"
          ]
        }
      ]
    },
    {
      "cell_type": "markdown",
      "metadata": {
        "colab_type": "text",
        "id": "SpqgKQfTYvF0"
      },
      "source": [
        "**6) 추정치에 대한 오차에 대해서 설명해보세요.**\n"
      ]
    },
    {
      "cell_type": "code",
      "metadata": {
        "colab_type": "code",
        "id": "dx80vKZkcteQ",
        "colab": {},
        "outputId": "9abd3597-497d-4c4f-99bc-edfb7d8c30d7"
      },
      "source": [
        "confidence_interval(df_sample1_data)\n",
        "샘플 수가 적을수록 신뢰구간의 넓어지고, 추정치에 대한 오차범위도 넓어집니다. 그로 인해 error의 값도 커집니다.\n"
      ],
      "execution_count": null,
      "outputs": [
        {
          "output_type": "execute_result",
          "data": {
            "text/plain": [
              "(0.056764073131315006, 0.058699999999999995, 0.060635926868684985)"
            ]
          },
          "metadata": {
            "tags": []
          },
          "execution_count": 112
        }
      ]
    },
    {
      "cell_type": "markdown",
      "metadata": {
        "colab_type": "text",
        "id": "9tIHBlM_SyGR"
      },
      "source": [
        "## 2단계 - 신뢰구간과, 표본 오차를 추정된 값과 같이 설명.\n",
        "\n",
        "**1) 1단계에서 추정한 값들을 바탕으로, 95%에 해당하는 신뢰구간을 계산하세요.**"
      ]
    },
    {
      "cell_type": "code",
      "metadata": {
        "colab_type": "code",
        "id": "hfCO0gHEUOrE",
        "colab": {},
        "outputId": "12880fd3-c0f8-430b-e124-2ffd8041e0ad"
      },
      "source": [
        "# 20개 데이터 신뢰구간\n",
        "display(confidence_interval(df_sample1_data))\n",
        "# 200개 데이터 신뢰구간 \n",
        "display(confidence_interval(df_sample2_data))\n"
      ],
      "execution_count": null,
      "outputs": [
        {
          "output_type": "display_data",
          "data": {
            "text/plain": [
              "(0.056764073131315006, 0.058699999999999995, 0.060635926868684985)"
            ]
          },
          "metadata": {
            "tags": []
          }
        },
        {
          "output_type": "display_data",
          "data": {
            "text/plain": [
              "(0.037284745651275264, 0.037755000000000004, 0.038225254348724744)"
            ]
          },
          "metadata": {
            "tags": []
          }
        }
      ]
    },
    {
      "cell_type": "markdown",
      "metadata": {
        "colab_type": "text",
        "id": "vdiW7DHRZwK-"
      },
      "source": [
        "**2) 두 샘플에 대한 신뢰구간중 어느것이 더 넓으며, 왜 그렇습니까?**"
      ]
    },
    {
      "cell_type": "markdown",
      "metadata": {
        "colab_type": "text",
        "id": "p5KGlyvYZ1Qq"
      },
      "source": [
        "(첫번째 (샘플수 20)의 신뢰구간이 더 넓으며, 이는 error 의 값이 훨씬 더 크기 때문입니다.) "
      ]
    },
    {
      "cell_type": "markdown",
      "metadata": {
        "colab_type": "text",
        "id": "6N33K4NvZ13H"
      },
      "source": [
        "**3) 두 샘플에 대해, 추정된 평균과, 표본 오차의 값을 설명하세요. 표본 오차가 의미 하는 바는 무엇인가요?**"
      ]
    },
    {
      "cell_type": "code",
      "metadata": {
        "colab_type": "code",
        "id": "DOJ41W1tVWa6",
        "colab": {},
        "outputId": "445bc39a-7105-4d31-b5f5-4ed6f070a189"
      },
      "source": [
        "# 모집단의 평균밧\n",
        "display(df_total_data)\n",
        "# 200개 데이터 표본 추정된 평균값\n",
        "display(ddf_sample2_data)\n",
        "\n",
        "표본오차(sampling error) : 모집단과 표본이 완벽하게 일치되지 않기 때문에, \n",
        "자연적으로 발생하는 불일치, 에러의 양들을 말한다. 모집단과 표본 사이에 나타나는 오차이다. \n"
      ],
      "execution_count": null,
      "outputs": [
        {
          "output_type": "display_data",
          "data": {
            "text/plain": [
              "0.037797222222222183"
            ]
          },
          "metadata": {
            "tags": []
          }
        },
        {
          "output_type": "display_data",
          "data": {
            "text/plain": [
              "0.03775499999999999"
            ]
          },
          "metadata": {
            "tags": []
          }
        }
      ]
    },
    {
      "cell_type": "markdown",
      "metadata": {
        "colab_type": "text",
        "id": "_7NuYtHfaQav"
      },
      "source": [
        "표본 오차는, 추정된 값이 실제 값과 얼마나 멀리 떨어져 있을 수 있는지 (95%의 확률로)를 의미합니다. "
      ]
    },
    {
      "cell_type": "markdown",
      "metadata": {
        "colab_type": "text",
        "id": "zkg9EW9KTgGv"
      },
      "source": [
        "## 3단계 - 시각화하기\n",
        "\n",
        "**1) `plt.errorbar` 를 사용하여 계산된 신뢰구간을 시각화하세요.** "
      ]
    },
    {
      "cell_type": "code",
      "metadata": {
        "colab_type": "code",
        "id": "2QOQGVfsVfFZ",
        "colab": {},
        "outputId": "5a8b3319-a760-42a6-838a-06ee5a0e96ac"
      },
      "source": [
        "# 20개 데이터 신뢰구간\n",
        "display(confidence_interval(df_sample1_data))\n",
        "# 200개 데이터 신뢰구간 \n",
        "display(confidence_interval(df_sample2_data))\n",
        "display(stats.sem(df_sample2_data))\n",
        "\n",
        "x = np.linspace(0.01, 0.07, 10000)\n",
        "y = stats.norm(0.037755, 0.0085).pdf(x)\n",
        "\n",
        "plt.errorbar(x,y)\n",
        "\n",
        "plt.errorbar([0.03728,0.03728], [0,20], 'k-', lw = 2, ecolor = 'green')\n",
        "plt.errorbar([0.03775,0.03775], [0,20], 'k-', lw = 2, ecolor = 'red')\n",
        "plt.errorbar([0.03822,0.03822], [0,20], 'k-', lw = 2, color = 'blue')"
      ],
      "execution_count": null,
      "outputs": [
        {
          "output_type": "display_data",
          "data": {
            "text/plain": [
              "(0.056764073131315006, 0.058699999999999995, 0.060635926868684985)"
            ]
          },
          "metadata": {
            "tags": []
          }
        },
        {
          "output_type": "display_data",
          "data": {
            "text/plain": [
              "(0.037284745651275264, 0.037755000000000004, 0.038225254348724744)"
            ]
          },
          "metadata": {
            "tags": []
          }
        },
        {
          "output_type": "display_data",
          "data": {
            "text/plain": [
              "0.000927321140429483"
            ]
          },
          "metadata": {
            "tags": []
          }
        },
        {
          "output_type": "error",
          "ename": "ValueError",
          "evalue": "The lengths of the data (2) and the error 1 do not match",
          "traceback": [
            "\u001b[0;31m---------------------------------------------------------------------------\u001b[0m",
            "\u001b[0;31mValueError\u001b[0m                                Traceback (most recent call last)",
            "\u001b[0;32m<ipython-input-218-abb9fa0df21b>\u001b[0m in \u001b[0;36m<module>\u001b[0;34m\u001b[0m\n\u001b[1;32m     10\u001b[0m \u001b[0mplt\u001b[0m\u001b[0;34m.\u001b[0m\u001b[0merrorbar\u001b[0m\u001b[0;34m(\u001b[0m\u001b[0mx\u001b[0m\u001b[0;34m,\u001b[0m\u001b[0my\u001b[0m\u001b[0;34m)\u001b[0m\u001b[0;34m\u001b[0m\u001b[0;34m\u001b[0m\u001b[0m\n\u001b[1;32m     11\u001b[0m \u001b[0;34m\u001b[0m\u001b[0m\n\u001b[0;32m---> 12\u001b[0;31m \u001b[0mplt\u001b[0m\u001b[0;34m.\u001b[0m\u001b[0merrorbar\u001b[0m\u001b[0;34m(\u001b[0m\u001b[0;34m[\u001b[0m\u001b[0;36m0.03728\u001b[0m\u001b[0;34m,\u001b[0m\u001b[0;36m0.03728\u001b[0m\u001b[0;34m]\u001b[0m\u001b[0;34m,\u001b[0m \u001b[0;34m[\u001b[0m\u001b[0;36m0\u001b[0m\u001b[0;34m,\u001b[0m\u001b[0;36m20\u001b[0m\u001b[0;34m]\u001b[0m\u001b[0;34m,\u001b[0m \u001b[0;34m'k-'\u001b[0m\u001b[0;34m,\u001b[0m \u001b[0mlw\u001b[0m \u001b[0;34m=\u001b[0m \u001b[0;36m2\u001b[0m\u001b[0;34m,\u001b[0m \u001b[0mecolor\u001b[0m \u001b[0;34m=\u001b[0m \u001b[0;34m'green'\u001b[0m\u001b[0;34m)\u001b[0m\u001b[0;34m\u001b[0m\u001b[0;34m\u001b[0m\u001b[0m\n\u001b[0m\u001b[1;32m     13\u001b[0m \u001b[0mplt\u001b[0m\u001b[0;34m.\u001b[0m\u001b[0merrorbar\u001b[0m\u001b[0;34m(\u001b[0m\u001b[0;34m[\u001b[0m\u001b[0;36m0.03775\u001b[0m\u001b[0;34m,\u001b[0m\u001b[0;36m0.03775\u001b[0m\u001b[0;34m]\u001b[0m\u001b[0;34m,\u001b[0m \u001b[0;34m[\u001b[0m\u001b[0;36m0\u001b[0m\u001b[0;34m,\u001b[0m\u001b[0;36m20\u001b[0m\u001b[0;34m]\u001b[0m\u001b[0;34m,\u001b[0m \u001b[0;34m'k-'\u001b[0m\u001b[0;34m,\u001b[0m \u001b[0mlw\u001b[0m \u001b[0;34m=\u001b[0m \u001b[0;36m2\u001b[0m\u001b[0;34m,\u001b[0m \u001b[0mecolor\u001b[0m \u001b[0;34m=\u001b[0m \u001b[0;34m'red'\u001b[0m\u001b[0;34m)\u001b[0m\u001b[0;34m\u001b[0m\u001b[0;34m\u001b[0m\u001b[0m\n\u001b[1;32m     14\u001b[0m \u001b[0mplt\u001b[0m\u001b[0;34m.\u001b[0m\u001b[0merrorbar\u001b[0m\u001b[0;34m(\u001b[0m\u001b[0;34m[\u001b[0m\u001b[0;36m0.03822\u001b[0m\u001b[0;34m,\u001b[0m\u001b[0;36m0.03822\u001b[0m\u001b[0;34m]\u001b[0m\u001b[0;34m,\u001b[0m \u001b[0;34m[\u001b[0m\u001b[0;36m0\u001b[0m\u001b[0;34m,\u001b[0m\u001b[0;36m20\u001b[0m\u001b[0;34m]\u001b[0m\u001b[0;34m,\u001b[0m \u001b[0;34m'k-'\u001b[0m\u001b[0;34m,\u001b[0m \u001b[0mlw\u001b[0m \u001b[0;34m=\u001b[0m \u001b[0;36m2\u001b[0m\u001b[0;34m,\u001b[0m \u001b[0mcolor\u001b[0m \u001b[0;34m=\u001b[0m \u001b[0;34m'blue'\u001b[0m\u001b[0;34m)\u001b[0m\u001b[0;34m\u001b[0m\u001b[0;34m\u001b[0m\u001b[0m\n",
            "\u001b[0;32m~/opt/anaconda3/lib/python3.7/site-packages/matplotlib/pyplot.py\u001b[0m in \u001b[0;36merrorbar\u001b[0;34m(x, y, yerr, xerr, fmt, ecolor, elinewidth, capsize, barsabove, lolims, uplims, xlolims, xuplims, errorevery, capthick, data, **kwargs)\u001b[0m\n\u001b[1;32m   2559\u001b[0m         \u001b[0mlolims\u001b[0m\u001b[0;34m=\u001b[0m\u001b[0mlolims\u001b[0m\u001b[0;34m,\u001b[0m \u001b[0muplims\u001b[0m\u001b[0;34m=\u001b[0m\u001b[0muplims\u001b[0m\u001b[0;34m,\u001b[0m \u001b[0mxlolims\u001b[0m\u001b[0;34m=\u001b[0m\u001b[0mxlolims\u001b[0m\u001b[0;34m,\u001b[0m\u001b[0;34m\u001b[0m\u001b[0;34m\u001b[0m\u001b[0m\n\u001b[1;32m   2560\u001b[0m         \u001b[0mxuplims\u001b[0m\u001b[0;34m=\u001b[0m\u001b[0mxuplims\u001b[0m\u001b[0;34m,\u001b[0m \u001b[0merrorevery\u001b[0m\u001b[0;34m=\u001b[0m\u001b[0merrorevery\u001b[0m\u001b[0;34m,\u001b[0m \u001b[0mcapthick\u001b[0m\u001b[0;34m=\u001b[0m\u001b[0mcapthick\u001b[0m\u001b[0;34m,\u001b[0m\u001b[0;34m\u001b[0m\u001b[0;34m\u001b[0m\u001b[0m\n\u001b[0;32m-> 2561\u001b[0;31m         **({\"data\": data} if data is not None else {}), **kwargs)\n\u001b[0m\u001b[1;32m   2562\u001b[0m \u001b[0;34m\u001b[0m\u001b[0m\n\u001b[1;32m   2563\u001b[0m \u001b[0;34m\u001b[0m\u001b[0m\n",
            "\u001b[0;32m~/opt/anaconda3/lib/python3.7/site-packages/matplotlib/__init__.py\u001b[0m in \u001b[0;36minner\u001b[0;34m(ax, data, *args, **kwargs)\u001b[0m\n\u001b[1;32m   1597\u001b[0m     \u001b[0;32mdef\u001b[0m \u001b[0minner\u001b[0m\u001b[0;34m(\u001b[0m\u001b[0max\u001b[0m\u001b[0;34m,\u001b[0m \u001b[0;34m*\u001b[0m\u001b[0margs\u001b[0m\u001b[0;34m,\u001b[0m \u001b[0mdata\u001b[0m\u001b[0;34m=\u001b[0m\u001b[0;32mNone\u001b[0m\u001b[0;34m,\u001b[0m \u001b[0;34m**\u001b[0m\u001b[0mkwargs\u001b[0m\u001b[0;34m)\u001b[0m\u001b[0;34m:\u001b[0m\u001b[0;34m\u001b[0m\u001b[0;34m\u001b[0m\u001b[0m\n\u001b[1;32m   1598\u001b[0m         \u001b[0;32mif\u001b[0m \u001b[0mdata\u001b[0m \u001b[0;32mis\u001b[0m \u001b[0;32mNone\u001b[0m\u001b[0;34m:\u001b[0m\u001b[0;34m\u001b[0m\u001b[0;34m\u001b[0m\u001b[0m\n\u001b[0;32m-> 1599\u001b[0;31m             \u001b[0;32mreturn\u001b[0m \u001b[0mfunc\u001b[0m\u001b[0;34m(\u001b[0m\u001b[0max\u001b[0m\u001b[0;34m,\u001b[0m \u001b[0;34m*\u001b[0m\u001b[0mmap\u001b[0m\u001b[0;34m(\u001b[0m\u001b[0msanitize_sequence\u001b[0m\u001b[0;34m,\u001b[0m \u001b[0margs\u001b[0m\u001b[0;34m)\u001b[0m\u001b[0;34m,\u001b[0m \u001b[0;34m**\u001b[0m\u001b[0mkwargs\u001b[0m\u001b[0;34m)\u001b[0m\u001b[0;34m\u001b[0m\u001b[0;34m\u001b[0m\u001b[0m\n\u001b[0m\u001b[1;32m   1600\u001b[0m \u001b[0;34m\u001b[0m\u001b[0m\n\u001b[1;32m   1601\u001b[0m         \u001b[0mbound\u001b[0m \u001b[0;34m=\u001b[0m \u001b[0mnew_sig\u001b[0m\u001b[0;34m.\u001b[0m\u001b[0mbind\u001b[0m\u001b[0;34m(\u001b[0m\u001b[0max\u001b[0m\u001b[0;34m,\u001b[0m \u001b[0;34m*\u001b[0m\u001b[0margs\u001b[0m\u001b[0;34m,\u001b[0m \u001b[0;34m**\u001b[0m\u001b[0mkwargs\u001b[0m\u001b[0;34m)\u001b[0m\u001b[0;34m\u001b[0m\u001b[0;34m\u001b[0m\u001b[0m\n",
            "\u001b[0;32m~/opt/anaconda3/lib/python3.7/site-packages/matplotlib/axes/_axes.py\u001b[0m in \u001b[0;36merrorbar\u001b[0;34m(self, x, y, yerr, xerr, fmt, ecolor, elinewidth, capsize, barsabove, lolims, uplims, xlolims, xuplims, errorevery, capthick, **kwargs)\u001b[0m\n\u001b[1;32m   3421\u001b[0m \u001b[0;34m\u001b[0m\u001b[0m\n\u001b[1;32m   3422\u001b[0m         \u001b[0;32mif\u001b[0m \u001b[0myerr\u001b[0m \u001b[0;32mis\u001b[0m \u001b[0;32mnot\u001b[0m \u001b[0;32mNone\u001b[0m\u001b[0;34m:\u001b[0m\u001b[0;34m\u001b[0m\u001b[0;34m\u001b[0m\u001b[0m\n\u001b[0;32m-> 3423\u001b[0;31m             \u001b[0mlower\u001b[0m\u001b[0;34m,\u001b[0m \u001b[0mupper\u001b[0m \u001b[0;34m=\u001b[0m \u001b[0mextract_err\u001b[0m\u001b[0;34m(\u001b[0m\u001b[0myerr\u001b[0m\u001b[0;34m,\u001b[0m \u001b[0my\u001b[0m\u001b[0;34m)\u001b[0m\u001b[0;34m\u001b[0m\u001b[0;34m\u001b[0m\u001b[0m\n\u001b[0m\u001b[1;32m   3424\u001b[0m             \u001b[0;31m# select points without upper/lower limits in y and\u001b[0m\u001b[0;34m\u001b[0m\u001b[0;34m\u001b[0m\u001b[0;34m\u001b[0m\u001b[0m\n\u001b[1;32m   3425\u001b[0m             \u001b[0;31m# draw normal errorbars for these points\u001b[0m\u001b[0;34m\u001b[0m\u001b[0;34m\u001b[0m\u001b[0;34m\u001b[0m\u001b[0m\n",
            "\u001b[0;32m~/opt/anaconda3/lib/python3.7/site-packages/matplotlib/axes/_axes.py\u001b[0m in \u001b[0;36mextract_err\u001b[0;34m(err, data)\u001b[0m\n\u001b[1;32m   3365\u001b[0m                 \u001b[0;32mif\u001b[0m \u001b[0mlen\u001b[0m\u001b[0;34m(\u001b[0m\u001b[0mdata\u001b[0m\u001b[0;34m)\u001b[0m \u001b[0;34m!=\u001b[0m \u001b[0mlen\u001b[0m\u001b[0;34m(\u001b[0m\u001b[0me\u001b[0m\u001b[0;34m)\u001b[0m\u001b[0;34m:\u001b[0m\u001b[0;34m\u001b[0m\u001b[0;34m\u001b[0m\u001b[0m\n\u001b[1;32m   3366\u001b[0m                     raise ValueError(\n\u001b[0;32m-> 3367\u001b[0;31m                         \u001b[0;34mf\"The lengths of the data ({len(data)}) and the \"\u001b[0m\u001b[0;34m\u001b[0m\u001b[0;34m\u001b[0m\u001b[0m\n\u001b[0m\u001b[1;32m   3368\u001b[0m                         f\"error {len(e)} do not match\")\n\u001b[1;32m   3369\u001b[0m             \u001b[0mlow\u001b[0m \u001b[0;34m=\u001b[0m \u001b[0;34m[\u001b[0m\u001b[0mv\u001b[0m \u001b[0;34m-\u001b[0m \u001b[0me\u001b[0m \u001b[0;32mfor\u001b[0m \u001b[0mv\u001b[0m\u001b[0;34m,\u001b[0m \u001b[0me\u001b[0m \u001b[0;32min\u001b[0m \u001b[0mzip\u001b[0m\u001b[0;34m(\u001b[0m\u001b[0mdata\u001b[0m\u001b[0;34m,\u001b[0m \u001b[0ma\u001b[0m\u001b[0;34m)\u001b[0m\u001b[0;34m]\u001b[0m\u001b[0;34m\u001b[0m\u001b[0;34m\u001b[0m\u001b[0m\n",
            "\u001b[0;31mValueError\u001b[0m: The lengths of the data (2) and the error 1 do not match"
          ]
        },
        {
          "output_type": "display_data",
          "data": {
            "image/png": "[encoded data removed]",
            "text/plain": [
              "<Figure size 432x288 with 1 Axes>"
            ]
          },
          "metadata": {
            "tags": [],
            "needs_background": "light"
          }
        }
      ]
    },
    {
      "cell_type": "markdown",
      "metadata": {
        "colab_type": "text",
        "id": "HsTtONTNawFi"
      },
      "source": [
        "**2) `plt.bar`를 사용하여 신뢰구간을 비교하세요.**"
      ]
    },
    {
      "cell_type": "code",
      "metadata": {
        "colab_type": "code",
        "id": "UE1fxaoKW1Xg",
        "colab": {}
      },
      "source": [
        "# 20개 데이터 신뢰구간\n",
        "display(confidence_interval(df_sample1_data))\n",
        "# 200개 데이터 신뢰구간 \n",
        "display(confidence_interval(df_sample2_data))\n",
        "display(stats.sem(df_sample2_data))\n",
        "\n",
        "x = np.linspace(0.01, 0.07, 10000)\n",
        "y = stats.norm(0.037755, 0.0085).pdf(x)\n",
        "\n",
        "plt.bar(x,y)\n",
        "\n",
        "plt.bar([0.03728,0.03728], [0,20], 'k-', lw = 2, ecolor = 'green')\n",
        "plt.bar([0.03775,0.03775], [0,20], 'k-', lw = 2, ecolor = 'red')\n",
        "plt.bar([0.03822,0.03822], [0,20], 'k-', lw = 2, color = 'blue')"
      ],
      "execution_count": null,
      "outputs": []
    },
    {
      "cell_type": "markdown",
      "metadata": {
        "colab_type": "text",
        "id": "ZGCzS-BFctob"
      },
      "source": [
        "## 4단계 - 실제와의 비교"
      ]
    },
    {
      "cell_type": "markdown",
      "metadata": {
        "colab_type": "text",
        "id": "E181afPXezJ9"
      },
      "source": [
        "**200, 20개의 샘플 데이터가 아닌 전체 데이터에 대해서 평균을 계산하고 추측된 평균값과의 비교를 해보세요.**"
      ]
    },
    {
      "cell_type": "code",
      "metadata": {
        "colab_type": "code",
        "id": "3puy99D6esLn",
        "colab": {},
        "outputId": "30e4eb82-7103-4e09-c634-f9f54f5087df"
      },
      "source": [
        "# 모집단의 평균값\n",
        "display(df_total_data)\n",
        "# 200개 데이터 표본 추정된 평균값\n",
        "display(df_sample2['오존(ppm)'].mean())\n",
        "#20개 데이터 표본 추정된 평균값\n",
        "display(df_sample1['오존(ppm)'].mean())"
      ],
      "execution_count": null,
      "outputs": [
        {
          "output_type": "display_data",
          "data": {
            "text/plain": [
              "0.037797222222222183"
            ]
          },
          "metadata": {
            "tags": []
          }
        },
        {
          "output_type": "display_data",
          "data": {
            "text/plain": [
              "0.03775499999999999"
            ]
          },
          "metadata": {
            "tags": []
          }
        },
        {
          "output_type": "display_data",
          "data": {
            "text/plain": [
              "0.058699999999999995"
            ]
          },
          "metadata": {
            "tags": []
          }
        }
      ]
    },
    {
      "cell_type": "markdown",
      "metadata": {
        "colab_type": "text",
        "id": "cvtnsGLJa4bW"
      },
      "source": [
        "# 🔥 도전과제:\n",
        "\n",
        "matplotlib는 좋은 시각화 라이브러리이지만, 유일한 시각화 라이브러리는 아닙니다.\n",
        "\n",
        "[plotly](https://plotly.com/) 나 [seaborn](http://seaborn.pydata.org/index.html), [bokeh](https://docs.bokeh.org/en/latest/index.html) 등 다른 시각화 라이브러리를 선택하여 앞에서 그렸던 신뢰구간을 해당 라이브러리를 선택하여 그려보세요."
      ]
    },
    {
      "cell_type": "code",
      "metadata": {
        "colab_type": "code",
        "id": "kfJZrLA5ctep",
        "colab": {}
      },
      "source": [
        ""
      ],
      "execution_count": null,
      "outputs": []
    }
  ]
}